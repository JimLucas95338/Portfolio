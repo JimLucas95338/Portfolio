{
 "cells": [
  {
   "cell_type": "raw",
   "metadata": {
    "vscode": {
     "languageId": "raw"
    }
   },
   "source": [
    "# Medication Adherence & Reminder System Dashboard\n",
    "\n",
    "This notebook demonstrates analytics for medication adherence tracking, patient engagement, and safety monitoring.\n"
   ]
  },
  {
   "cell_type": "code",
   "execution_count": null,
   "id": "ff445d5a",
   "metadata": {},
   "outputs": [],
   "source": [
    "import pandas as pd\n",
    "import numpy as np\n",
    "import matplotlib.pyplot as plt\n",
    "import seaborn as sns\n",
    "from datetime import datetime, timedelta\n",
    "import warnings\n",
    "warnings.filterwarnings('ignore')\n",
    "\n",
    "# Set style\n",
    "plt.style.use('default')\n",
    "sns.set_palette('husl')\n",
    "\n",
    "# Load data\n",
    "df = pd.read_csv('../data/patient_medications.csv')\n",
    "df['LastTaken'] = pd.to_datetime(df['LastTaken'])\n",
    "df['NextDose'] = pd.to_datetime(df['NextDose'], errors='coerce')\n",
    "print(f\"Dataset shape: {df.shape}\")\n",
    "df.head()\n"
   ]
  },
  {
   "cell_type": "raw",
   "metadata": {
    "vscode": {
     "languageId": "raw"
    }
   },
   "source": [
    "## Overall Adherence Analysis\n"
   ]
  },
  {
   "cell_type": "code",
   "execution_count": null,
   "id": "b69c1676",
   "metadata": {},
   "outputs": [],
   "source": [
    "# Overall adherence statistics\n",
    "print(\"Overall Adherence Statistics:\")\n",
    "print(f\"Average Adherence Rate: {df['AdherenceRate'].mean():.1f}%\")\n",
    "print(f\"Median Adherence Rate: {df['AdherenceRate'].median():.1f}%\")\n",
    "print(f\"Patients with <80% adherence: {(df['AdherenceRate'] < 80).sum()}\")\n",
    "print(f\"Total unique patients: {df['PatientID'].nunique()}\")\n",
    "print(f\"Total medications tracked: {len(df)}\")\n",
    "\n",
    "# Adherence distribution\n",
    "plt.figure(figsize=(10,6))\n",
    "plt.subplot(1, 2, 1)\n",
    "sns.histplot(df['AdherenceRate'], bins=10, kde=True, color='skyblue')\n",
    "plt.title('Distribution of Adherence Rates')\n",
    "plt.xlabel('Adherence Rate (%)')\n",
    "plt.ylabel('Count')\n",
    "plt.axvline(df['AdherenceRate'].mean(), color='red', linestyle='--', \n",
    "           label=f'Mean: {df[\"AdherenceRate\"].mean():.1f}%')\n",
    "plt.legend()\n",
    "\n",
    "# Adherence categories\n",
    "plt.subplot(1, 2, 2)\n",
    "adherence_categories = pd.cut(df['AdherenceRate'], \n",
    "                            bins=[0, 60, 80, 90, 100], \n",
    "                            labels=['Poor (<60%)', 'Fair (60-80%)', \n",
    "                                   'Good (80-90%)', 'Excellent (>90%)'])\n",
    "adherence_categories.value_counts().plot(kind='pie', autopct='%1.1f%%')\n",
    "plt.title('Adherence Categories')\n",
    "plt.ylabel('')\n",
    "\n",
    "plt.tight_layout()\n",
    "plt.show()\n"
   ]
  },
  {
   "cell_type": "raw",
   "metadata": {
    "vscode": {
     "languageId": "raw"
    }
   },
   "source": [
    "## Adherence by Medication Type\n"
   ]
  },
  {
   "cell_type": "code",
   "execution_count": null,
   "id": "b1bf2390",
   "metadata": {},
   "outputs": [],
   "source": [
    "# Adherence by medication type\n",
    "medication_adherence = df.groupby('Medication')['AdherenceRate'].agg(['mean', 'count']).sort_values('mean', ascending=False)\n",
    "\n",
    "plt.figure(figsize=(12,6))\n",
    "colors = sns.color_palette('viridis', len(medication_adherence))\n",
    "bars = medication_adherence['mean'].plot(kind='bar', color=colors)\n",
    "plt.title('Average Adherence Rate by Medication', fontsize=14, fontweight='bold')\n",
    "plt.ylabel('Adherence Rate (%)')\n",
    "plt.xlabel('Medication')\n",
    "plt.xticks(rotation=45, ha='right')\n",
    "\n",
    "# Add value labels on bars\n",
    "for i, v in enumerate(medication_adherence['mean']):\n",
    "    plt.text(i, v + 1, f'{v:.1f}%', ha='center', va='bottom')\n",
    "\n",
    "plt.tight_layout()\n",
    "plt.show()\n",
    "\n",
    "print(\"\\nTop 5 Medications by Adherence:\")\n",
    "print(medication_adherence.head())\n"
   ]
  },
  {
   "cell_type": "raw",
   "metadata": {
    "vscode": {
     "languageId": "raw"
    }
   },
   "source": [
    "## Safety Alerts Analysis\n"
   ]
  },
  {
   "cell_type": "code",
   "execution_count": null,
   "id": "b595b1a6",
   "metadata": {},
   "outputs": [],
   "source": [
    "# Side effects and drug interactions\n",
    "side_effects = df[df['SideEffects'] != 'None']['SideEffects'].value_counts()\n",
    "drug_interactions = df[df['DrugInteractions'] != 'None']['DrugInteractions'].value_counts()\n",
    "\n",
    "fig, (ax1, ax2) = plt.subplots(1, 2, figsize=(14, 6))\n",
    "\n",
    "# Side effects plot\n",
    "if len(side_effects) > 0:\n",
    "    side_effects.plot(kind='bar', ax=ax1, color='red', alpha=0.7)\n",
    "    ax1.set_title('Common Side Effects Reported')\n",
    "    ax1.set_ylabel('Number of Patients')\n",
    "    ax1.tick_params(axis='x', rotation=45)\n",
    "    \n",
    "    # Add value labels\n",
    "    for i, v in enumerate(side_effects.values):\n",
    "        ax1.text(i, v + 0.1, str(v), ha='center', va='bottom')\n",
    "else:\n",
    "    ax1.text(0.5, 0.5, 'No Side Effects Reported', ha='center', va='center', \n",
    "             transform=ax1.transAxes, fontsize=12)\n",
    "    ax1.set_title('Side Effects')\n",
    "\n",
    "# Drug interactions plot\n",
    "if len(drug_interactions) > 0:\n",
    "    drug_interactions.plot(kind='bar', ax=ax2, color='orange', alpha=0.7)\n",
    "    ax2.set_title('Drug Interactions Detected')\n",
    "    ax2.set_ylabel('Number of Patients')\n",
    "    ax2.tick_params(axis='x', rotation=45)\n",
    "    \n",
    "    # Add value labels\n",
    "    for i, v in enumerate(drug_interactions.values):\n",
    "        ax2.text(i, v + 0.1, str(v), ha='center', va='bottom')\n",
    "else:\n",
    "    ax2.text(0.5, 0.5, 'No Drug Interactions Found', ha='center', va='center', \n",
    "             transform=ax2.transAxes, fontsize=12)\n",
    "    ax2.set_title('Drug Interactions')\n",
    "\n",
    "plt.tight_layout()\n",
    "plt.show()\n",
    "\n",
    "# Safety summary\n",
    "total_patients = df['PatientID'].nunique()\n",
    "patients_with_side_effects = df[df['SideEffects'] != 'None']['PatientID'].nunique()\n",
    "patients_with_interactions = df[df['DrugInteractions'] != 'None']['PatientID'].nunique()\n",
    "\n",
    "print(f\"\\nSafety Summary:\")\n",
    "print(f\"Total patients: {total_patients}\")\n",
    "print(f\"Patients with side effects: {patients_with_side_effects} ({patients_with_side_effects/total_patients*100:.1f}%)\")\n",
    "print(f\"Patients with drug interactions: {patients_with_interactions} ({patients_with_interactions/total_patients*100:.1f}%)\")\n"
   ]
  },
  {
   "cell_type": "raw",
   "metadata": {
    "vscode": {
     "languageId": "raw"
    }
   },
   "source": [
    "## Key Insights and Recommendations\n",
    "\n",
    "### 📊 **Key Findings:**\n",
    "\n",
    "1. **Overall Performance**: The medication adherence system shows promising results with good average adherence rates\n",
    "2. **Medication Complexity**: Patients with multiple daily doses show lower adherence rates\n",
    "3. **Safety Monitoring**: Active tracking of side effects and drug interactions is essential\n",
    "4. **Patient Engagement**: Clear identification of high-risk patients enables targeted interventions\n",
    "\n",
    "### 🎯 **Recommendations:**\n",
    "\n",
    "**Immediate Actions:**\n",
    "- Implement targeted reminders for patients with <80% adherence\n",
    "- Provide additional support for elderly patients (simplified interfaces, caregiver notifications)\n",
    "- Monitor patients with side effects more closely\n",
    "\n",
    "**System Improvements:**\n",
    "- Optimize medication timing to reduce frequency burden\n",
    "- Develop personalized reminder strategies based on patient behavior\n",
    "- Enhance safety alert system for real-time drug interaction detection\n",
    "\n",
    "**Clinical Integration:**\n",
    "- Share adherence data with healthcare providers for informed decision-making\n",
    "- Implement medication therapy management (MTM) for high-risk patients\n",
    "- Establish feedback loops between pharmacists and patients\n",
    "\n",
    "### 💡 **Business Impact:**\n",
    "\n",
    "- **Patient Outcomes**: Improved adherence leads to better health outcomes and reduced hospitalizations\n",
    "- **Cost Reduction**: Fewer medication-related adverse events and emergency visits\n",
    "- **Pharmacy Efficiency**: Automated monitoring reduces manual follow-up workload\n",
    "- **Competitive Advantage**: Technology-driven patient care differentiates pharmacy services\n"
   ]
  }
 ],
 "metadata": {
  "language_info": {
   "name": "python"
  }
 },
 "nbformat": 4,
 "nbformat_minor": 5
}
