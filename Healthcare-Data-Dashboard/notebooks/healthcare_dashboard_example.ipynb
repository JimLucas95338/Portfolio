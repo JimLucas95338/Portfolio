{
 "cells": [
  {
   "cell_type": "markdown",
   "id": "65f332b2",
   "metadata": {},
   "source": [
    "# Healthcare Data Dashboard Example\n",
    "\n",
    "This notebook demonstrates data analysis and visualization for a synthetic healthcare dataset."
   ]
  },
  {
   "cell_type": "code",
   "execution_count": null,
   "id": "955ac415",
   "metadata": {},
   "outputs": [],
   "source": [
    "import pandas as pd\n",
    "import matplotlib.pyplot as plt\n",
    "import seaborn as sns\n",
    "\n",
    "# Load data\n",
    "df = pd.read_csv('../data/sample_healthcare_data.csv')\n",
    "df.head()"
   ]
  },
  {
   "cell_type": "markdown",
   "id": "345df0d0",
   "metadata": {},
   "source": [
    "## Summary Statistics"
   ]
  },
  {
   "cell_type": "code",
   "execution_count": null,
   "id": "bfc3abbc",
   "metadata": {},
   "outputs": [],
   "source": [
    "df.describe(include='all')"
   ]
  },
  {
   "cell_type": "markdown",
   "id": "dceb0540",
   "metadata": {},
   "source": [
    "## Age Distribution"
   ]
  },
  {
   "cell_type": "code",
   "execution_count": null,
   "id": "f1980435",
   "metadata": {},
   "outputs": [],
   "source": [
    "plt.figure(figsize=(6,4))\n",
    "sns.histplot(df['Age'], bins=8, kde=True)\n",
    "plt.title('Age Distribution')\n",
    "plt.xlabel('Age')\n",
    "plt.ylabel('Count')\n",
    "plt.show()"
   ]
  },
  {
   "cell_type": "markdown",
   "id": "787ee6de",
   "metadata": {},
   "source": [
    "## Readmission Rate"
   ]
  },
  {
   "cell_type": "code",
   "execution_count": null,
   "id": "cc3b2c07",
   "metadata": {},
   "outputs": [],
   "source": [
    "readmit_rate = df['Readmitted'].value_counts(normalize=True)\n",
    "readmit_rate.plot(kind='bar', color=['skyblue', 'salmon'])\n",
    "plt.title('Readmission Rate')\n",
    "plt.ylabel('Proportion')\n",
    "plt.show()"
   ]
  },
  {
   "cell_type": "markdown",
   "id": "ec5d06fc",
   "metadata": {},
   "source": [
    "## Average Cost by Diagnosis"
   ]
  },
  {
   "cell_type": "code",
   "execution_count": null,
   "id": "4e49738d",
   "metadata": {},
   "outputs": [],
   "source": [
    "plt.figure(figsize=(6,4))\n",
    "df.groupby('Diagnosis')['Cost'].mean().plot(kind='bar', color='lightgreen')\n",
    "plt.title('Average Cost by Diagnosis')\n",
    "plt.ylabel('Average Cost ($)')\n",
    "plt.show()"
   ]
  },
  {
   "cell_type": "markdown",
   "id": "6ef71408",
   "metadata": {},
   "source": [
    "## Outcome Score by Diagnosis"
   ]
  },
  {
   "cell_type": "code",
   "execution_count": null,
   "id": "2cc775d9",
   "metadata": {},
   "outputs": [],
   "source": [
    "plt.figure(figsize=(6,4))\n",
    "sns.boxplot(x='Diagnosis', y='OutcomeScore', data=df, palette='pastel')\n",
    "plt.title('Outcome Score by Diagnosis')\n",
    "plt.ylabel('Outcome Score')\n",
    "plt.show()"
   ]
  },
  {
   "cell_type": "markdown",
   "id": "d61764ff",
   "metadata": {},
   "source": [
    "---\n",
    "\n",
    "**Key Insights:**\n",
    "- Summarize trends, outliers, or actionable findings here.\n",
    "- Example: CHF patients have higher readmission rates and costs."
   ]
  }
 ],
 "metadata": {
  "language_info": {
   "name": "python"
  }
 },
 "nbformat": 4,
 "nbformat_minor": 5
}
