{
 "cells": [
  {
   "cell_type": "markdown",
   "id": "65f332b2",
   "metadata": {},
   "source": [
    "# Healthcare Data Dashboard Example\n",
    "\n",
    "This notebook demonstrates data analysis and visualization for a synthetic healthcare dataset."
   ]
  },
  {
   "cell_type": "code",
   "execution_count": 1,
   "id": "955ac415",
   "metadata": {},
   "outputs": [
    {
     "data": {
      "text/html": [
       "<div>\n",
       "<style scoped>\n",
       "    .dataframe tbody tr th:only-of-type {\n",
       "        vertical-align: middle;\n",
       "    }\n",
       "\n",
       "    .dataframe tbody tr th {\n",
       "        vertical-align: top;\n",
       "    }\n",
       "\n",
       "    .dataframe thead th {\n",
       "        text-align: right;\n",
       "    }\n",
       "</style>\n",
       "<table border=\"1\" class=\"dataframe\">\n",
       "  <thead>\n",
       "    <tr style=\"text-align: right;\">\n",
       "      <th></th>\n",
       "      <th>PatientID</th>\n",
       "      <th>Age</th>\n",
       "      <th>Gender</th>\n",
       "      <th>Diagnosis</th>\n",
       "      <th>AdmissionDate</th>\n",
       "      <th>DischargeDate</th>\n",
       "      <th>LengthOfStay</th>\n",
       "      <th>Readmitted</th>\n",
       "      <th>Cost</th>\n",
       "      <th>OutcomeScore</th>\n",
       "    </tr>\n",
       "  </thead>\n",
       "  <tbody>\n",
       "    <tr>\n",
       "      <th>0</th>\n",
       "      <td>1</td>\n",
       "      <td>65</td>\n",
       "      <td>Male</td>\n",
       "      <td>Diabetes</td>\n",
       "      <td>2024-01-01</td>\n",
       "      <td>2024-01-10</td>\n",
       "      <td>9</td>\n",
       "      <td>No</td>\n",
       "      <td>12000</td>\n",
       "      <td>78</td>\n",
       "    </tr>\n",
       "    <tr>\n",
       "      <th>1</th>\n",
       "      <td>2</td>\n",
       "      <td>72</td>\n",
       "      <td>Female</td>\n",
       "      <td>CHF</td>\n",
       "      <td>2024-01-05</td>\n",
       "      <td>2024-01-15</td>\n",
       "      <td>10</td>\n",
       "      <td>Yes</td>\n",
       "      <td>18000</td>\n",
       "      <td>65</td>\n",
       "    </tr>\n",
       "    <tr>\n",
       "      <th>2</th>\n",
       "      <td>3</td>\n",
       "      <td>58</td>\n",
       "      <td>Male</td>\n",
       "      <td>COPD</td>\n",
       "      <td>2024-01-12</td>\n",
       "      <td>2024-01-18</td>\n",
       "      <td>6</td>\n",
       "      <td>No</td>\n",
       "      <td>9000</td>\n",
       "      <td>82</td>\n",
       "    </tr>\n",
       "    <tr>\n",
       "      <th>3</th>\n",
       "      <td>4</td>\n",
       "      <td>80</td>\n",
       "      <td>Female</td>\n",
       "      <td>Stroke</td>\n",
       "      <td>2024-01-20</td>\n",
       "      <td>2024-01-30</td>\n",
       "      <td>10</td>\n",
       "      <td>Yes</td>\n",
       "      <td>25000</td>\n",
       "      <td>60</td>\n",
       "    </tr>\n",
       "    <tr>\n",
       "      <th>4</th>\n",
       "      <td>5</td>\n",
       "      <td>50</td>\n",
       "      <td>Male</td>\n",
       "      <td>Diabetes</td>\n",
       "      <td>2024-02-01</td>\n",
       "      <td>2024-02-07</td>\n",
       "      <td>6</td>\n",
       "      <td>No</td>\n",
       "      <td>8000</td>\n",
       "      <td>85</td>\n",
       "    </tr>\n",
       "  </tbody>\n",
       "</table>\n",
       "</div>"
      ],
      "text/plain": [
       "   PatientID  Age  Gender Diagnosis AdmissionDate DischargeDate  LengthOfStay  \\\n",
       "0          1   65    Male  Diabetes    2024-01-01    2024-01-10             9   \n",
       "1          2   72  Female       CHF    2024-01-05    2024-01-15            10   \n",
       "2          3   58    Male      COPD    2024-01-12    2024-01-18             6   \n",
       "3          4   80  Female    Stroke    2024-01-20    2024-01-30            10   \n",
       "4          5   50    Male  Diabetes    2024-02-01    2024-02-07             6   \n",
       "\n",
       "  Readmitted   Cost  OutcomeScore  \n",
       "0         No  12000            78  \n",
       "1        Yes  18000            65  \n",
       "2         No   9000            82  \n",
       "3        Yes  25000            60  \n",
       "4         No   8000            85  "
      ]
     },
     "execution_count": 1,
     "metadata": {},
     "output_type": "execute_result"
    }
   ],
   "source": [
    "import pandas as pd\n",
    "import matplotlib.pyplot as plt\n",
    "import seaborn as sns\n",
    "\n",
    "# Load data\n",
    "df = pd.read_csv('../data/sample_healthcare_data.csv')\n",
    "df.head()"
   ]
  },
  {
   "cell_type": "markdown",
   "id": "345df0d0",
   "metadata": {},
   "source": [
    "## Summary Statistics"
   ]
  },
  {
   "cell_type": "code",
   "execution_count": 2,
   "id": "bfc3abbc",
   "metadata": {},
   "outputs": [
    {
     "data": {
      "text/html": [
       "<div>\n",
       "<style scoped>\n",
       "    .dataframe tbody tr th:only-of-type {\n",
       "        vertical-align: middle;\n",
       "    }\n",
       "\n",
       "    .dataframe tbody tr th {\n",
       "        vertical-align: top;\n",
       "    }\n",
       "\n",
       "    .dataframe thead th {\n",
       "        text-align: right;\n",
       "    }\n",
       "</style>\n",
       "<table border=\"1\" class=\"dataframe\">\n",
       "  <thead>\n",
       "    <tr style=\"text-align: right;\">\n",
       "      <th></th>\n",
       "      <th>PatientID</th>\n",
       "      <th>Age</th>\n",
       "      <th>Gender</th>\n",
       "      <th>Diagnosis</th>\n",
       "      <th>AdmissionDate</th>\n",
       "      <th>DischargeDate</th>\n",
       "      <th>LengthOfStay</th>\n",
       "      <th>Readmitted</th>\n",
       "      <th>Cost</th>\n",
       "      <th>OutcomeScore</th>\n",
       "    </tr>\n",
       "  </thead>\n",
       "  <tbody>\n",
       "    <tr>\n",
       "      <th>count</th>\n",
       "      <td>10.00000</td>\n",
       "      <td>10.000000</td>\n",
       "      <td>10</td>\n",
       "      <td>10</td>\n",
       "      <td>10</td>\n",
       "      <td>10</td>\n",
       "      <td>10.000000</td>\n",
       "      <td>10</td>\n",
       "      <td>10.000000</td>\n",
       "      <td>10.000000</td>\n",
       "    </tr>\n",
       "    <tr>\n",
       "      <th>unique</th>\n",
       "      <td>NaN</td>\n",
       "      <td>NaN</td>\n",
       "      <td>2</td>\n",
       "      <td>4</td>\n",
       "      <td>10</td>\n",
       "      <td>10</td>\n",
       "      <td>NaN</td>\n",
       "      <td>2</td>\n",
       "      <td>NaN</td>\n",
       "      <td>NaN</td>\n",
       "    </tr>\n",
       "    <tr>\n",
       "      <th>top</th>\n",
       "      <td>NaN</td>\n",
       "      <td>NaN</td>\n",
       "      <td>Male</td>\n",
       "      <td>Diabetes</td>\n",
       "      <td>2024-01-01</td>\n",
       "      <td>2024-01-10</td>\n",
       "      <td>NaN</td>\n",
       "      <td>No</td>\n",
       "      <td>NaN</td>\n",
       "      <td>NaN</td>\n",
       "    </tr>\n",
       "    <tr>\n",
       "      <th>freq</th>\n",
       "      <td>NaN</td>\n",
       "      <td>NaN</td>\n",
       "      <td>5</td>\n",
       "      <td>3</td>\n",
       "      <td>1</td>\n",
       "      <td>1</td>\n",
       "      <td>NaN</td>\n",
       "      <td>6</td>\n",
       "      <td>NaN</td>\n",
       "      <td>NaN</td>\n",
       "    </tr>\n",
       "    <tr>\n",
       "      <th>mean</th>\n",
       "      <td>5.50000</td>\n",
       "      <td>66.100000</td>\n",
       "      <td>NaN</td>\n",
       "      <td>NaN</td>\n",
       "      <td>NaN</td>\n",
       "      <td>NaN</td>\n",
       "      <td>8.600000</td>\n",
       "      <td>NaN</td>\n",
       "      <td>15550.000000</td>\n",
       "      <td>72.500000</td>\n",
       "    </tr>\n",
       "    <tr>\n",
       "      <th>std</th>\n",
       "      <td>3.02765</td>\n",
       "      <td>9.993887</td>\n",
       "      <td>NaN</td>\n",
       "      <td>NaN</td>\n",
       "      <td>NaN</td>\n",
       "      <td>NaN</td>\n",
       "      <td>1.837873</td>\n",
       "      <td>NaN</td>\n",
       "      <td>5852.112629</td>\n",
       "      <td>8.746428</td>\n",
       "    </tr>\n",
       "    <tr>\n",
       "      <th>min</th>\n",
       "      <td>1.00000</td>\n",
       "      <td>50.000000</td>\n",
       "      <td>NaN</td>\n",
       "      <td>NaN</td>\n",
       "      <td>NaN</td>\n",
       "      <td>NaN</td>\n",
       "      <td>6.000000</td>\n",
       "      <td>NaN</td>\n",
       "      <td>8000.000000</td>\n",
       "      <td>60.000000</td>\n",
       "    </tr>\n",
       "    <tr>\n",
       "      <th>25%</th>\n",
       "      <td>3.25000</td>\n",
       "      <td>59.000000</td>\n",
       "      <td>NaN</td>\n",
       "      <td>NaN</td>\n",
       "      <td>NaN</td>\n",
       "      <td>NaN</td>\n",
       "      <td>6.750000</td>\n",
       "      <td>NaN</td>\n",
       "      <td>10125.000000</td>\n",
       "      <td>65.750000</td>\n",
       "    </tr>\n",
       "    <tr>\n",
       "      <th>50%</th>\n",
       "      <td>5.50000</td>\n",
       "      <td>66.000000</td>\n",
       "      <td>NaN</td>\n",
       "      <td>NaN</td>\n",
       "      <td>NaN</td>\n",
       "      <td>NaN</td>\n",
       "      <td>9.500000</td>\n",
       "      <td>NaN</td>\n",
       "      <td>16000.000000</td>\n",
       "      <td>72.500000</td>\n",
       "    </tr>\n",
       "    <tr>\n",
       "      <th>75%</th>\n",
       "      <td>7.75000</td>\n",
       "      <td>73.500000</td>\n",
       "      <td>NaN</td>\n",
       "      <td>NaN</td>\n",
       "      <td>NaN</td>\n",
       "      <td>NaN</td>\n",
       "      <td>10.000000</td>\n",
       "      <td>NaN</td>\n",
       "      <td>19500.000000</td>\n",
       "      <td>79.500000</td>\n",
       "    </tr>\n",
       "    <tr>\n",
       "      <th>max</th>\n",
       "      <td>10.00000</td>\n",
       "      <td>80.000000</td>\n",
       "      <td>NaN</td>\n",
       "      <td>NaN</td>\n",
       "      <td>NaN</td>\n",
       "      <td>NaN</td>\n",
       "      <td>10.000000</td>\n",
       "      <td>NaN</td>\n",
       "      <td>25000.000000</td>\n",
       "      <td>85.000000</td>\n",
       "    </tr>\n",
       "  </tbody>\n",
       "</table>\n",
       "</div>"
      ],
      "text/plain": [
       "        PatientID        Age Gender Diagnosis AdmissionDate DischargeDate  \\\n",
       "count    10.00000  10.000000     10        10            10            10   \n",
       "unique        NaN        NaN      2         4            10            10   \n",
       "top           NaN        NaN   Male  Diabetes    2024-01-01    2024-01-10   \n",
       "freq          NaN        NaN      5         3             1             1   \n",
       "mean      5.50000  66.100000    NaN       NaN           NaN           NaN   \n",
       "std       3.02765   9.993887    NaN       NaN           NaN           NaN   \n",
       "min       1.00000  50.000000    NaN       NaN           NaN           NaN   \n",
       "25%       3.25000  59.000000    NaN       NaN           NaN           NaN   \n",
       "50%       5.50000  66.000000    NaN       NaN           NaN           NaN   \n",
       "75%       7.75000  73.500000    NaN       NaN           NaN           NaN   \n",
       "max      10.00000  80.000000    NaN       NaN           NaN           NaN   \n",
       "\n",
       "        LengthOfStay Readmitted          Cost  OutcomeScore  \n",
       "count      10.000000         10     10.000000     10.000000  \n",
       "unique           NaN          2           NaN           NaN  \n",
       "top              NaN         No           NaN           NaN  \n",
       "freq             NaN          6           NaN           NaN  \n",
       "mean        8.600000        NaN  15550.000000     72.500000  \n",
       "std         1.837873        NaN   5852.112629      8.746428  \n",
       "min         6.000000        NaN   8000.000000     60.000000  \n",
       "25%         6.750000        NaN  10125.000000     65.750000  \n",
       "50%         9.500000        NaN  16000.000000     72.500000  \n",
       "75%        10.000000        NaN  19500.000000     79.500000  \n",
       "max        10.000000        NaN  25000.000000     85.000000  "
      ]
     },
     "execution_count": 2,
     "metadata": {},
     "output_type": "execute_result"
    }
   ],
   "source": [
    "df.describe(include='all')"
   ]
  },
  {
   "cell_type": "markdown",
   "id": "dceb0540",
   "metadata": {},
   "source": [
    "## Age Distribution"
   ]
  },
  {
   "cell_type": "code",
   "execution_count": 3,
   "id": "f1980435",
   "metadata": {},
   "outputs": [
    {
     "data": {
      "image/png": "[encoded data removed]",
      "text/plain": [
       "<Figure size 600x400 with 1 Axes>"
      ]
     },
     "metadata": {},
     "output_type": "display_data"
    }
   ],
   "source": [
    "plt.figure(figsize=(6,4))\n",
    "sns.histplot(df['Age'], bins=8, kde=True)\n",
    "plt.title('Age Distribution')\n",
    "plt.xlabel('Age')\n",
    "plt.ylabel('Count')\n",
    "plt.show()"
   ]
  },
  {
   "cell_type": "markdown",
   "id": "787ee6de",
   "metadata": {},
   "source": [
    "## Readmission Rate"
   ]
  },
  {
   "cell_type": "code",
   "execution_count": 4,
   "id": "cc3b2c07",
   "metadata": {},
   "outputs": [
    {
     "data": {
      "image/png": "[encoded data removed]",
      "text/plain": [
       "<Figure size 640x480 with 1 Axes>"
      ]
     },
     "metadata": {},
     "output_type": "display_data"
    }
   ],
   "source": [
    "readmit_rate = df['Readmitted'].value_counts(normalize=True)\n",
    "readmit_rate.plot(kind='bar', color=['skyblue', 'salmon'])\n",
    "plt.title('Readmission Rate')\n",
    "plt.ylabel('Proportion')\n",
    "plt.show()"
   ]
  },
  {
   "cell_type": "markdown",
   "id": "ec5d06fc",
   "metadata": {},
   "source": [
    "## Average Cost by Diagnosis"
   ]
  },
  {
   "cell_type": "code",
   "execution_count": 5,
   "id": "4e49738d",
   "metadata": {},
   "outputs": [
    {
     "data": {
      "image/png": "[encoded data removed]",
      "text/plain": [
       "<Figure size 600x400 with 1 Axes>"
      ]
     },
     "metadata": {},
     "output_type": "display_data"
    }
   ],
   "source": [
    "plt.figure(figsize=(6,4))\n",
    "df.groupby('Diagnosis')['Cost'].mean().plot(kind='bar', color='lightgreen')\n",
    "plt.title('Average Cost by Diagnosis')\n",
    "plt.ylabel('Average Cost ($)')\n",
    "plt.show()"
   ]
  },
  {
   "cell_type": "markdown",
   "id": "6ef71408",
   "metadata": {},
   "source": [
    "## Outcome Score by Diagnosis"
   ]
  },
  {
   "cell_type": "code",
   "execution_count": 6,
   "id": "2cc775d9",
   "metadata": {},
   "outputs": [
    {
     "name": "stderr",
     "output_type": "stream",
     "text": [
      "C:\\Users\\jim85\\AppData\\Local\\Temp\\ipykernel_23244\\483221183.py:2: FutureWarning: \n",
      "\n",
      "Passing `palette` without assigning `hue` is deprecated and will be removed in v0.14.0. Assign the `x` variable to `hue` and set `legend=False` for the same effect.\n",
      "\n",
      "  sns.boxplot(x='Diagnosis', y='OutcomeScore', data=df, palette='pastel')\n"
     ]
    },
    {
     "data": {
      "image/png": "[encoded data removed]",
      "text/plain": [
       "<Figure size 600x400 with 1 Axes>"
      ]
     },
     "metadata": {},
     "output_type": "display_data"
    }
   ],
   "source": [
    "plt.figure(figsize=(6,4))\n",
    "sns.boxplot(x='Diagnosis', y='OutcomeScore', data=df, palette='pastel')\n",
    "plt.title('Outcome Score by Diagnosis')\n",
    "plt.ylabel('Outcome Score')\n",
    "plt.show()"
   ]
  },
  {
   "cell_type": "markdown",
   "id": "d61764ff",
   "metadata": {},
   "source": [
    "---\n",
    "\n",
    "**Key Insights:**\n",
    "- Summarize trends, outliers, or actionable findings here.\n",
    "- Example: CHF patients have higher readmission rates and costs."
   ]
  }
 ],
 "metadata": {
  "kernelspec": {
   "display_name": "Python 3",
   "language": "python",
   "name": "python3"
  },
  "language_info": {
   "codemirror_mode": {
    "name": "ipython",
    "version": 3
   },
   "file_extension": ".py",
   "mimetype": "text/x-python",
   "name": "python",
   "nbconvert_exporter": "python",
   "pygments_lexer": "ipython3",
   "version": "3.13.3"
  }
 },
 "nbformat": 4,
 "nbformat_minor": 5
}
